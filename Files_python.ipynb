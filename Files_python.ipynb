{
  "nbformat": 4,
  "nbformat_minor": 0,
  "metadata": {
    "colab": {
      "provenance": [],
      "include_colab_link": true
    },
    "kernelspec": {
      "name": "python3",
      "display_name": "Python 3"
    },
    "language_info": {
      "name": "python"
    }
  },
  "cells": [
    {
      "cell_type": "markdown",
      "metadata": {
        "id": "view-in-github",
        "colab_type": "text"
      },
      "source": [
        "<a href=\"https://colab.research.google.com/github/Sgreddy12882/Sgreddy12882/blob/main/Files_python.ipynb\" target=\"_parent\"><img src=\"https://colab.research.google.com/assets/colab-badge.svg\" alt=\"Open In Colab\"/></a>"
      ]
    },
    {
      "cell_type": "code",
      "source": [
        "import math\n",
        "\n",
        "# Hard-coded values for the quadratic equation coefficients\n",
        "a = 1\n",
        "b = -3\n",
        "c = 2\n",
        "\n",
        "# Calculate discriminant (b^2 - 4ac)\n",
        "discriminant = b**2 - 4*a*c\n",
        "\n",
        "# Check if discriminant is positive, zero, or negative\n",
        "if discriminant > 0:\n",
        "    # Two real roots\n",
        "    root1 = (-b + math.sqrt(discriminant)) / (2*a)\n",
        "    root2 = (-b - math.sqrt(discriminant)) / (2*a)\n",
        "    print(f\"Two real roots: {root1} and {root2}\")\n",
        "elif discriminant == 0:\n",
        "    # One real root\n",
        "    root = -b / (2*a)\n",
        "    print(f\"One real root: {root}\")\n",
        "else:\n",
        "    # Complex roots\n",
        "    real_part = -b / (2*a)\n",
        "    imaginary_part = math.sqrt(abs(discriminant)) / (2*a)\n",
        "    print(f\"Complex roots: {real_part} ± {imaginary_part}i\")"
      ],
      "metadata": {
        "id": "RLwaMhTXsjDO"
      },
      "execution_count": null,
      "outputs": []
    }
  ]
}