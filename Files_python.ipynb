{
  "nbformat": 4,
  "nbformat_minor": 0,
  "metadata": {
    "colab": {
      "provenance": [],
      "include_colab_link": true
    },
    "kernelspec": {
      "name": "python3",
      "display_name": "Python 3"
    },
    "language_info": {
      "name": "python"
    }
  },
  "cells": [
    {
      "cell_type": "markdown",
      "metadata": {
        "id": "view-in-github",
        "colab_type": "text"
      },
      "source": [
        "<a href=\"https://colab.research.google.com/github/Sgreddy12882/Sgreddy12882/blob/main/Files_python.ipynb\" target=\"_parent\"><img src=\"https://colab.research.google.com/assets/colab-badge.svg\" alt=\"Open In Colab\"/></a>"
      ]
    },
    {
      "cell_type": "code",
      "source": [
        "import math\n",
        "\n",
        "\n",
        "def solve_quadratic(a, b, c):\n",
        "    discriminant = b**2 - 4*a*c\n",
        "    if discriminant > 0:\n",
        "        root1 = (-b + math.sqrt(discriminant)) / (2*a)\n",
        "        root2 = (-b - math.sqrt(discriminant)) / (2*a)\n",
        "        return f\"Two real roots: {root1} and {root2}\"\n",
        "    elif discriminant == 0:\n",
        "        root = -b / (2*a)\n",
        "        return f\"One real root: {root}\"\n",
        "    else:\n",
        "        real_part = -b / (2*a)\n",
        "        imaginary_part = math.sqrt(abs(discriminant)) / (2*a)\n",
        "        return f\"Complex roots: {real_part} ± {imaginary_part}i\"\n",
        "\n",
        "def run_program():\n",
        "    while True:\n",
        "        print(\"\\nChoose input method:\")\n",
        "        print(\"1. Keyboard input\")\n",
        "        print(\"2. Read from file\")\n",
        "        choice = input(\"Enter 1 or 2 (or 'q' to quit): \")\n",
        "\n",
        "        if choice == '1':\n",
        "            a = float(input(\"Enter coefficient a: \"))\n",
        "            b = float(input(\"Enter coefficient b: \"))\n",
        "            c = float(input(\"Enter coefficient c: \"))\n",
        "            print(solve_quadratic(a, b, c))\n",
        "\n",
        "        elif choice == '2':\n",
        "            filename = input(\"Enter the filename containing coefficients: \")\n",
        "            try:\n",
        "                with open(filename, 'r') as file:\n",
        "                    for line in file:\n",
        "                        coefficients = line.split()\n",
        "                        a, b, c = float(coefficients[0]), float(coefficients[1]), float(coefficients[2])\n",
        "                        print(solve_quadratic(a, b, c))\n",
        "            except FileNotFoundError:\n",
        "                print(f\"File '{filename}' not found.\")\n",
        "\n",
        "        elif choice.lower() == 'q':\n",
        "            print(\"Exiting the program.\")\n",
        "            break\n",
        "        else:\n",
        "            print(\"Invalid choice. Try again.\")\n",
        "\n",
        "run_program()"
      ],
      "metadata": {
        "id": "f2IW6O6nv-Wq"
      },
      "execution_count": null,
      "outputs": []
    }
  ]
}